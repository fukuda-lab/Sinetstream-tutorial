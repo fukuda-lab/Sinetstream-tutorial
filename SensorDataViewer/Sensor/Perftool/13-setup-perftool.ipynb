{
 "cells": [
  {
   "attachments": {},
   "cell_type": "markdown",
   "id": "b8a3cdfb-9e32-4ecc-808e-0e158d396fb6",
   "metadata": {},
   "source": [
    "# Perftoolの計測結果をサーバに送信する"
   ]
  },
  {
   "attachments": {},
   "cell_type": "markdown",
   "id": "db347ac3-5b54-4ae8-bac5-bdc1bbdaa19d",
   "metadata": {},
   "source": [
    "## 概要"
   ]
  },
  {
   "attachments": {},
   "cell_type": "markdown",
   "id": "b5df9e64-757c-49bf-8736-c9908bbc8250",
   "metadata": {},
   "source": [
    "### システム構成\n",
    "\n",
    "システム構成を次図に示します。`client`で示された枠内がこのnotebookで構築する対象になります。"
   ]
  },
  {
   "attachments": {},
   "cell_type": "markdown",
   "id": "9b80c5be-3e3d-4190-856b-cd581afd2ba4",
   "metadata": {},
   "source": [
    "![システム構成](img/13-components.png)\n",
    "<!--\n",
    "```mermaid\n",
    "flowchart LR\n",
    "  subgraph S1[server]\n",
    "    subgraph N[\"NATS\"]\n",
    "      TT([\"perftool target topic\"])\n",
    "    end\n",
    "    subgraph K[\"Apache Kafka\"]\n",
    "      TI([\"perftool result topic\"])\n",
    "    end\n",
    "  end\n",
    "  subgraph R[\"client\"]\n",
    "    CC[\"perftool\\ncontainer\"]\n",
    "    CC-.->TT\n",
    "    CC==>TI\n",
    "  end\n",
    "```\n",
    "-->\n",
    "\n",
    "perftoolコンテナは[perftool](https://github.com/nii-gakunin-cloud/sinetstream/tree/main/java/sample/perftool)コマンドをコンテナ内で実行して、その計測結果をKafkaブローカに送信します。"
   ]
  },
  {
   "attachments": {},
   "cell_type": "markdown",
   "id": "7c0e2962-15ed-4f83-a864-078a1107d08a",
   "metadata": {},
   "source": [
    "### 前提条件\n",
    "\n",
    "環境を構築、実行するために必要となる前提条件を示します。\n",
    "\n",
    "* docker, docker compose v2\n",
    "  * perftoolコンテナを実行するために必要となリます"
   ]
  },
  {
   "attachments": {},
   "cell_type": "markdown",
   "id": "e2998840-1ce4-4ab0-98f1-d3652d786442",
   "metadata": {},
   "source": [
    "前提条件に関する簡単なチェックを行います。"
   ]
  },
  {
   "attachments": {},
   "cell_type": "markdown",
   "id": "46ca909e-605f-4607-9961-dc214f34e8ff",
   "metadata": {},
   "source": [
    "docker, docker composeが利用可能になっていることを確認します。"
   ]
  },
  {
   "cell_type": "code",
   "execution_count": null,
   "id": "b112935c-1ba2-4d98-b9b3-e5a6c6988874",
   "metadata": {
    "tags": []
   },
   "outputs": [],
   "source": [
    "docker version"
   ]
  },
  {
   "cell_type": "code",
   "execution_count": null,
   "id": "af91e2ae-be41-43e7-abf2-373142721fba",
   "metadata": {
    "tags": []
   },
   "outputs": [],
   "source": [
    "docker compose version"
   ]
  },
  {
   "attachments": {},
   "cell_type": "markdown",
   "id": "e9385f67-d7ef-4cf0-a52b-1bf37bd52562",
   "metadata": {},
   "source": [
    "## パラメータの指定"
   ]
  },
  {
   "attachments": {},
   "cell_type": "markdown",
   "id": "18e81aa5-e3ec-4807-b522-d567858960c5",
   "metadata": {},
   "source": [
    "### 配置場所 \n",
    "\n",
    "環境を構築するために必要となる資材を配置するディレクトリを次のセルに指定してください。"
   ]
  },
  {
   "cell_type": "code",
   "execution_count": null,
   "id": "bef770a7-82b1-48a4-b543-7a299174a619",
   "metadata": {
    "tags": []
   },
   "outputs": [],
   "source": [
    "# (例)\n",
    "# target_dir=$HOME/perftool\n",
    "# target_dir=/srv/perftool\n",
    "\n",
    "target_dir="
   ]
  },
  {
   "attachments": {},
   "cell_type": "markdown",
   "id": "bbf7e96d-00ab-4bc8-b751-20dc7ecaa099",
   "metadata": {
    "tags": []
   },
   "source": [
    "### perftool\n",
    "\n",
    "[perftoolコマンド](https://github.com/nii-gakunin-cloud/sinetstream/tree/main/java/sample/perftool)のオプションに対応する環境変数を指定します。"
   ]
  },
  {
   "attachments": {},
   "cell_type": "markdown",
   "id": "a9662610-060f-439f-bfc4-ed9a5b9b24fd",
   "metadata": {},
   "source": [
    "「[perftool - オプション](https://github.com/nii-gakunin-cloud/sinetstream/tree/main/java/sample/perftool#%E3%82%AA%E3%83%97%E3%82%B7%E3%83%A7%E3%83%B3)」に記述されているオプションのうち、以下に示したものを指定することができます。\n",
    "\n",
    "* -c, --output-count OUTPUT_COUNT\n",
    "  * OUTPUT_COUNT回メトリクス情報を計測し出力する。デフォルト:1\n",
    "* -n, --num-samples NUM_SAMPLES\n",
    "  * 一回のメトリクス情報を出力するまでにwriterがNUM_SAMPLES個のデータ送信を試行する。デフォルト:300\n",
    "* -p, --payload-size PAYLOAD_SIZE\n",
    "  * データ送信試行時にPAYLOAD_SIZEバイトのペイロード長のデータを使用する。デフォルト:1024\n",
    "* -a, --async-api\n",
    "  * 指定した場合はデータの送信/受信に非同期APIを使用する。指定しなかった場合は同期APIを使用する\n",
    "* -t, --num-threads NUM_THREADS\n",
    "  * NUM_THREADS個のreader/writerのペアを並列実行する。各ペアはOUTPUT_COUNT回メトリクス情報を計測する。デフォルト:1\n",
    "\n",
    "perftoolコマンドのオプションと環境変数の対応を次表に示します。\n",
    "\n",
    "|オプション|環境変数|指定例|\n",
    "|---|---|---|\n",
    "|--output-count|PERFTOOL_OUTPUT_COUNT|PERFTOOL_OUTPUT_COUNT=1|\n",
    "|--num-samples|PERFTOOL_NUM_SAMPLES|PERFTOOL_NUM_SAMPLES=300|\n",
    "|--payload-size|PERFTOOL_PAYLOAD_SIZE|PERFTOOL_PAYLOAD_SIZE=1024|\n",
    "|--async-api|PERFTOOL_ASYNC_API|PERFTOOL_ASYNC_API=1|\n",
    "|--num-threads|PERFTOOL_NUM_THREADS|PERFTOOL_NUM_THREADS=1|\n",
    "\n",
    "次のセルで`PERFTOOL_PARAMS`に上記の環境変数を指定するステートメントを設定して下さい。"
   ]
  },
  {
   "cell_type": "code",
   "execution_count": null,
   "id": "7fa5cc20-2761-4fc5-ae5c-a435c4b6bac2",
   "metadata": {
    "tags": []
   },
   "outputs": [],
   "source": [
    "# (例)\n",
    "# PERFTOOL_PARAMS=\"\n",
    "# PERFTOOL_OUTPUT_COUNT=1\n",
    "# PERFTOOL_NUM_SAMPLES=300\n",
    "# PERFTOOL_PAYLOAD_SIZE=1024\n",
    "# PERFTOOL_NUM_THREADS=1\n",
    "# \"\n",
    "\n",
    "PERFTOOL_PARAMS=\"\n",
    "PERFTOOL_OUTPUT_COUNT=1\n",
    "PERFTOOL_NUM_SAMPLES=300\n",
    "PERFTOOL_PAYLOAD_SIZE=1024\n",
    "PERFTOOL_NUM_THREADS=1\n",
    "\""
   ]
  },
  {
   "attachments": {},
   "cell_type": "markdown",
   "id": "7314b7db-406a-49ca-b770-8f8458968530",
   "metadata": {},
   "source": [
    "### 計測対象\n",
    "\n",
    "perftoolコマンドの計測対象となるブローカに関するパラメータの指定を行います。"
   ]
  },
  {
   "attachments": {},
   "cell_type": "markdown",
   "id": "e6225b36-121c-4dc5-8957-04c8eec9274f",
   "metadata": {},
   "source": [
    "計測対象となるブローカのホスト名（またはIPアドレス）を指定して下さい。"
   ]
  },
  {
   "cell_type": "code",
   "execution_count": null,
   "id": "d468a3b8-1350-4885-83aa-5936d65abc2e",
   "metadata": {
    "tags": []
   },
   "outputs": [],
   "source": [
    "# (例)\n",
    "# target_host=broker.example.org\n",
    "# target_host=192.168.10.100\n",
    "\n",
    "target_host="
   ]
  },
  {
   "attachments": {},
   "cell_type": "markdown",
   "id": "2f59d773-1037-4cce-bb93-5365de449685",
   "metadata": {},
   "source": [
    "ブローカのポート番号を指定して下さい。"
   ]
  },
  {
   "cell_type": "code",
   "execution_count": null,
   "id": "7faf62ef-2421-46b3-98a1-3ae076a047d9",
   "metadata": {
    "tags": []
   },
   "outputs": [],
   "source": [
    "# (例)\n",
    "# target_port=1883\n",
    "# target_port=9092\n",
    "\n",
    "target_port=1883"
   ]
  },
  {
   "attachments": {},
   "cell_type": "markdown",
   "id": "f6db0e3e-2cd3-4705-9bb5-e8e48847d178",
   "metadata": {},
   "source": [
    "計測対象のトピック名を指定して下さい。"
   ]
  },
  {
   "cell_type": "code",
   "execution_count": null,
   "id": "57abbafe-4cfe-4412-87ae-8e583128f56a",
   "metadata": {
    "tags": []
   },
   "outputs": [],
   "source": [
    "# (例)\n",
    "# target_topic=perftool-sinetstream-target\n",
    "\n",
    "target_topic=perftool-sinetstream-target"
   ]
  },
  {
   "attachments": {},
   "cell_type": "markdown",
   "id": "f58fc199-4625-4603-84c1-cefa117d3416",
   "metadata": {},
   "source": [
    "ブローカの種別を指定して下さい。"
   ]
  },
  {
   "cell_type": "code",
   "execution_count": null,
   "id": "92a5c30d-a49a-4c11-962f-36e592bd3cba",
   "metadata": {
    "tags": []
   },
   "outputs": [],
   "source": [
    "# (例)\n",
    "# target_type=mqtt\n",
    "# target_type=kafka\n",
    "\n",
    "target_type=mqtt"
   ]
  },
  {
   "attachments": {},
   "cell_type": "markdown",
   "id": "93526347-39ff-4565-96a3-f78f08b45abd",
   "metadata": {},
   "source": [
    "ブローカにメッセージを送信する際の`consistency`を指定して下さい。"
   ]
  },
  {
   "cell_type": "code",
   "execution_count": null,
   "id": "d47a42e2-a0fc-46a1-98b9-9b84cb4fc9de",
   "metadata": {
    "tags": []
   },
   "outputs": [],
   "source": [
    "# (例)\n",
    "# target_type=AT_LEAST_ONCE\n",
    "# target_type=AT_MOST_ONCE\n",
    "\n",
    "target_consistency=AT_LEAST_ONCE"
   ]
  },
  {
   "attachments": {},
   "cell_type": "markdown",
   "id": "c0574479-10ba-42aa-8b33-8a1dae9edc54",
   "metadata": {
    "tags": []
   },
   "source": [
    "計測対象のブローカとの通信にて、上記で指定した以外のパラメータを指定する場合は`TARGET_PARAMS`に環境変数を指定するステートメントを設定して下さい。SINETStream設定ファイルのパラメータと環境変数との変換ルールを以下に示します。\n",
    "\n",
    "* パラメータ名を全て大文字に変換する\n",
    "* プレフィックスに `PERF_TGT_` をつける\n",
    "* 複数階層をもつパラメータを指定する場合は階層の区切りに２文字のアンダースコア `__` を指定する\n",
    "\n",
    "例えばパラメータ`data_compression`を指定する場合は環境変数`PERF_TGT_DATA_COMPRESSION`に値を設定します。"
   ]
  },
  {
   "cell_type": "code",
   "execution_count": null,
   "id": "168ae810-b138-4d5c-a48a-29c4d9b4bdcc",
   "metadata": {
    "tags": []
   },
   "outputs": [],
   "source": [
    "# (例)\n",
    "# TARGET_PARAMS=\"\n",
    "# PERF_TGT_TLS=true\n",
    "# PERF_TGT_DATA_COMPRESSION=true\n",
    "# \"\n",
    "\n",
    "TARGET_PARAMS=\"\n",
    "\""
   ]
  },
  {
   "attachments": {},
   "cell_type": "markdown",
   "id": "4e3885c6-6777-4475-b84a-d9350ce4d174",
   "metadata": {
    "tags": []
   },
   "source": [
    "### 結果送信先\n",
    "\n",
    "perftoolコマンドの計測結果を送信するKafkaブローカに関するパラメータの指定を行います。"
   ]
  },
  {
   "attachments": {},
   "cell_type": "markdown",
   "id": "8c7bb43a-7b97-4ddf-8409-b7e9b70d5f30",
   "metadata": {
    "tags": []
   },
   "source": [
    "Kafkaの外部公開ホスト名（またはIPアドレス）を指定してください。"
   ]
  },
  {
   "cell_type": "code",
   "execution_count": null,
   "id": "d26d3776-c4ae-417f-956c-9078182e194f",
   "metadata": {
    "tags": []
   },
   "outputs": [],
   "source": [
    "# (例)\n",
    "# result_host=kafka.example.org\n",
    "# result_host=192.168.10.100\n",
    "\n",
    "result_host="
   ]
  },
  {
   "attachments": {},
   "cell_type": "markdown",
   "id": "26c299e9-a782-48fd-9c99-8c9156fc0ac4",
   "metadata": {},
   "source": [
    "ブローカのポート番号を指定して下さい。"
   ]
  },
  {
   "cell_type": "code",
   "execution_count": null,
   "id": "c8614f99-7905-4244-b835-21f2a0721cbb",
   "metadata": {
    "tags": []
   },
   "outputs": [],
   "source": [
    "# (例)\n",
    "# result_port=9092\n",
    "\n",
    "result_port=9092"
   ]
  },
  {
   "attachments": {},
   "cell_type": "markdown",
   "id": "0044e98e-636a-43a0-a222-959c624432f6",
   "metadata": {},
   "source": [
    "送信先となるトピック名を指定して下さい。"
   ]
  },
  {
   "cell_type": "code",
   "execution_count": null,
   "id": "a6103448-558e-41fd-9b8b-df7a3c4e0202",
   "metadata": {
    "tags": []
   },
   "outputs": [],
   "source": [
    "# (例)\n",
    "# result_topic=perftool-sinetstream-target\n",
    "\n",
    "result_topic=perftool-sinetstream-result"
   ]
  },
  {
   "attachments": {},
   "cell_type": "markdown",
   "id": "3e6a0d81-3789-4efd-bb80-1b79a9645b20",
   "metadata": {},
   "source": [
    "### 実行間隔\n",
    "\n",
    "perftoolコマンドを実行する時間間隔（秒）を環境変数`SCHEDULE`に指定して下さい。"
   ]
  },
  {
   "cell_type": "code",
   "execution_count": null,
   "id": "02e6f50d-221e-4bde-900a-8991ded1a0b8",
   "metadata": {
    "tags": []
   },
   "outputs": [],
   "source": [
    "# (例)\n",
    "# SCHEDULE=60\n",
    "\n",
    "SCHEDULE=60"
   ]
  },
  {
   "attachments": {},
   "cell_type": "markdown",
   "id": "aad8b55a-b283-4b69-a1ec-3a5377b9c820",
   "metadata": {
    "tags": []
   },
   "source": [
    "### 識別名\n",
    "\n",
    "perftoolコマンドの実行環境を識別するための名前を次のセルで指定します。ここで指定した値は、計測結果を可視化する際に表示対象を選択するために必要となります。"
   ]
  },
  {
   "cell_type": "code",
   "execution_count": null,
   "id": "473972a4-ee48-4e34-a109-3c058bd5fa9b",
   "metadata": {
    "tags": []
   },
   "outputs": [],
   "source": [
    "# (例)\n",
    "# PERF_NAME=$target_topic\n",
    "# PERF_NAME=$(hostname -f)\n",
    "# PERF_NAME=perftool-1\n",
    "\n",
    "PERF_NAME=$target_topic"
   ]
  },
  {
   "attachments": {},
   "cell_type": "markdown",
   "id": "3a6088f8-6a4f-4c4e-a91f-3ef7b4844b7f",
   "metadata": {},
   "source": [
    "## 資材の配置\n",
    "\n",
    "環境を構築するために必要となる資材を配置します。"
   ]
  },
  {
   "attachments": {},
   "cell_type": "markdown",
   "id": "b038c7a1-ca32-477a-bddc-2e7163597f12",
   "metadata": {},
   "source": [
    "資材を配置するディレクトリを作成します。"
   ]
  },
  {
   "cell_type": "code",
   "execution_count": null,
   "id": "ac27b106-d4ea-436d-9df6-a643e84b795f",
   "metadata": {
    "tags": []
   },
   "outputs": [],
   "source": [
    "mkdir -p $target_dir"
   ]
  },
  {
   "attachments": {},
   "cell_type": "markdown",
   "id": "f6bfd380-23a5-44c9-b1f8-bb2f5298e7df",
   "metadata": {},
   "source": [
    "コンテナの構成を記述した`docker-compose.yml`を配置します。"
   ]
  },
  {
   "cell_type": "code",
   "execution_count": null,
   "id": "475b10ec-8642-43b8-8143-61d47ad14477",
   "metadata": {
    "tags": []
   },
   "outputs": [],
   "source": [
    "cp docker/docker-compose.yml $target_dir/docker-compose.yml"
   ]
  },
  {
   "attachments": {},
   "cell_type": "markdown",
   "id": "060b65f0-4fb5-49b0-97ff-926b4856628a",
   "metadata": {},
   "source": [
    "配置した`docker-compose.yml`の内容を表示します。"
   ]
  },
  {
   "cell_type": "code",
   "execution_count": null,
   "id": "715bf4b6-7f7d-4862-9855-6654d2ff40f9",
   "metadata": {
    "tags": []
   },
   "outputs": [],
   "source": [
    "cat $target_dir/docker-compose.yml"
   ]
  },
  {
   "attachments": {},
   "cell_type": "markdown",
   "id": "fe79faed-20bf-4fdd-9b56-6af65adacf25",
   "metadata": {},
   "source": [
    "コンテナの環境変数を設定する`.env.perftool`ファイルを作成します。"
   ]
  },
  {
   "cell_type": "code",
   "execution_count": null,
   "id": "a4b4b131-5b9e-4526-8b5e-5f7c52a8120c",
   "metadata": {
    "tags": []
   },
   "outputs": [],
   "source": [
    "cat > $target_dir/.env.perftool <<EOF\n",
    "${PERFTOOL_PARAMS:-}\n",
    "SCHEDULE=${SCHEDULE:-60}\n",
    "PERF_TGT_BROKERS=${target_host}:${target_port:-1883}\n",
    "PERF_TGT_TOPIC=${target_topic}\n",
    "PERF_TGT_TYPE=${target_type:-mqtt}\n",
    "PERF_TGT_CONSISTENCY=${target_consistency:-AT_LEAST_ONCE}\n",
    "PERF_RST_BROKERS=${result_host}:${result_port:-9092}\n",
    "PERF_RST_TOPIC=${result_topic}\n",
    "PERF_RST_TYPE=kafka\n",
    "PERF_RST_CONSISTENCY=AT_LEAST_ONCE\n",
    "NAME=${PERF_NAME:-$target_topic}\n",
    "${TARGET_PARAMS:-}\n",
    "EOF"
   ]
  },
  {
   "attachments": {},
   "cell_type": "markdown",
   "id": "793f29d6-cac5-4e3a-a093-0045c00b982d",
   "metadata": {},
   "source": [
    "`.env.perftool`ファイルの内容を確認します。"
   ]
  },
  {
   "cell_type": "code",
   "execution_count": null,
   "id": "c95bdcb8-231c-4127-8411-0d28c8f57c72",
   "metadata": {
    "tags": []
   },
   "outputs": [],
   "source": [
    "cat $target_dir/.env.perftool"
   ]
  },
  {
   "attachments": {},
   "cell_type": "markdown",
   "id": "1a179fae-1aa1-4ff5-88cc-635ec3ec6d53",
   "metadata": {},
   "source": [
    "## コンテナの起動"
   ]
  },
  {
   "attachments": {},
   "cell_type": "markdown",
   "id": "1971c6fa-d76f-465e-b30c-51d405f16066",
   "metadata": {},
   "source": [
    "利用するコンテナイメージを取得します。"
   ]
  },
  {
   "cell_type": "code",
   "execution_count": null,
   "id": "fb0004ea-6c27-4ce5-8775-a37026cf55b4",
   "metadata": {
    "tags": []
   },
   "outputs": [],
   "source": [
    "docker compose --project-directory ${target_dir} pull -q"
   ]
  },
  {
   "attachments": {},
   "cell_type": "markdown",
   "id": "97723fdd-f138-4755-b1ec-61b0c6460bd5",
   "metadata": {},
   "source": [
    "コンテナを起動します。notebook環境で`docker compose up`を実行すると処理中の表示が煩雑なため、次のセルでは全ての出力結果を破棄しています。エラーや警告表示を確認する必要がある場合はnotebook環境ではなく、別窓でターミナルなどを開いて`docker compose up`コマンドを実行して下さい。"
   ]
  },
  {
   "cell_type": "code",
   "execution_count": null,
   "id": "af08eeaa-dd2f-444c-90c0-460dacffc8f3",
   "metadata": {
    "tags": []
   },
   "outputs": [],
   "source": [
    "docker compose --project-directory ${target_dir} up -d --remove-orphans >& /dev/null"
   ]
  },
  {
   "attachments": {},
   "cell_type": "markdown",
   "id": "a3a5ed5f-e3a9-48d3-8b4b-4d050243dadb",
   "metadata": {},
   "source": [
    "コンテナの実行状況を確認します。コンテナのSTATUSがUpとなっていることを確認して下さい。"
   ]
  },
  {
   "cell_type": "code",
   "execution_count": null,
   "id": "7407f49e-05a2-498d-b3f9-fb124803b924",
   "metadata": {
    "tags": []
   },
   "outputs": [],
   "source": [
    "docker compose --project-directory ${target_dir} ps"
   ]
  }
 ],
 "metadata": {
  "kernelspec": {
   "display_name": "Bash",
   "language": "bash",
   "name": "bash"
  },
  "language_info": {
   "codemirror_mode": "shell",
   "file_extension": ".sh",
   "mimetype": "text/x-sh",
   "name": "bash"
  },
  "toc-autonumbering": true,
  "toc-showcode": false,
  "toc-showmarkdowntxt": false
 },
 "nbformat": 4,
 "nbformat_minor": 5
}
