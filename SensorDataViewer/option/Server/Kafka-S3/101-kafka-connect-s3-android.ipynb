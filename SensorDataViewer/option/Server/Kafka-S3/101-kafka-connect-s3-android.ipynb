{
 "cells": [
  {
   "cell_type": "markdown",
   "metadata": {},
   "source": [
    "# アンドロイドセンサーデータをオブジェクトストレージに保存する"
   ]
  },
  {
   "cell_type": "markdown",
   "metadata": {},
   "source": [
    "## 概要\n",
    "\n",
    "AndroidからKafkaブローカに送信されたセンサーデータを外部のオブジェクトストレージに保存するように設定します。この設定はKafkaブローカに送信されたデータのバックアップなどを目的としています。"
   ]
  },
  {
   "cell_type": "markdown",
   "metadata": {},
   "source": [
    "### システム構成\n",
    "\n",
    "システム構成を次図に示します。\n",
    "\n",
    "![システム構成](img/101-components.png)\n",
    "\n",
    "<!--\n",
    "```mermaid\n",
    "flowchart LR\n",
    "  S3[(\"Object Storage\")]\n",
    "  subgraph S1[server]\n",
    "    subgraph N[\"NATS\"]\n",
    "      T0([\"sensor data topic\"])\n",
    "    end\n",
    "    subgraph K[\"Apache Kafka\"]\n",
    "      T1([\"sensor data topic\"])\n",
    "    end\n",
    "    T0-.->T1\n",
    "  end\n",
    "  T1-.->|\"data\"|S3\n",
    "  T1-.->|\"timestamp\"|S3\n",
    "  subgraph R[\"Android\"]\n",
    "    CC[\"sinetstream-android-\\nsensor-publisher\"]\n",
    "    CC-.->T0\n",
    "  end```\n",
    "-->"
   ]
  },
  {
   "cell_type": "markdown",
   "metadata": {},
   "source": [
    "### 前提条件\n",
    "\n",
    "設定を行うための前提条件を示します。\n",
    "\n",
    "* [01-setup-android-sensor-data.ipynb](../../../Server/01-setup-android-sensor-data.ipynb)でサーバが構築済みであること\n",
    "* 保存先となるオブジェクトストレージにサーバ構築環境からアクセスできること"
   ]
  },
  {
   "cell_type": "markdown",
   "metadata": {},
   "source": [
    "## パラメータの指定\n",
    "\n",
    "設定を行うために必要となるパラメータを指定します。"
   ]
  },
  {
   "cell_type": "markdown",
   "metadata": {},
   "source": [
    "### 配置場所 \n",
    "\n",
    "サーバを構成する資材が配置されているディレクトリを次のセルに指定してください。"
   ]
  },
  {
   "cell_type": "code",
   "execution_count": null,
   "metadata": {
    "tags": []
   },
   "outputs": [],
   "source": [
    "# (例)\n",
    "# target_dir=$HOME/srv/sensor-viewer\n",
    "# target_dir=/srv/sensor-viewer\n",
    "\n",
    "target_dir="
   ]
  },
  {
   "cell_type": "markdown",
   "metadata": {},
   "source": [
    "指定されたディレクトリに想定するサーバが構築されていることを確認します。構成ファイルが配置されており、かつandroidセンサーデータ向けにサーバが構築されていることを確認します。"
   ]
  },
  {
   "cell_type": "code",
   "execution_count": null,
   "metadata": {},
   "outputs": [],
   "source": [
    "test -f ${target_dir}/params/00-config.yml && \\\n",
    "grep -q android ${target_dir}/params/00-config.yml"
   ]
  },
  {
   "cell_type": "markdown",
   "metadata": {},
   "source": [
    "コンテナが実行中であることを確認します。"
   ]
  },
  {
   "cell_type": "code",
   "execution_count": null,
   "metadata": {
    "tags": []
   },
   "outputs": [],
   "source": [
    "docker compose --project-directory ${target_dir} ps --services --status running | \\\n",
    "grep -q kafka-connect"
   ]
  },
  {
   "cell_type": "markdown",
   "metadata": {},
   "source": [
    "Kafka ConnectのREST APIにアクセスできることを確認します。"
   ]
  },
  {
   "cell_type": "code",
   "execution_count": null,
   "metadata": {
    "tags": []
   },
   "outputs": [],
   "source": [
    "curl -sf http://localhost:8083"
   ]
  },
  {
   "cell_type": "markdown",
   "metadata": {},
   "source": [
    "### オブジェクトストレージ\n",
    "\n",
    "データ保存先となるオブジェクトストレージに関するパラメータを指定します。"
   ]
  },
  {
   "cell_type": "markdown",
   "metadata": {},
   "source": [
    "オブジェクトストレージのURLを指定して下さい。"
   ]
  },
  {
   "cell_type": "code",
   "execution_count": null,
   "metadata": {
    "tags": []
   },
   "outputs": [],
   "source": [
    "# (例)\n",
    "# endpoint_url=http://bucket.s3-aws-region.amazonaws.com\n",
    "# endpoint_url=http://192.168.10.100:9000\n",
    "\n",
    "endpoint_url="
   ]
  },
  {
   "cell_type": "markdown",
   "metadata": {},
   "source": [
    "保存先となるバケットの名前を指定して下さい。保存先となるバケットは既に作成されていることを想定しています。"
   ]
  },
  {
   "cell_type": "code",
   "execution_count": null,
   "metadata": {
    "tags": []
   },
   "outputs": [],
   "source": [
    "# (例)\n",
    "# bucket_name=android\n",
    "\n",
    "bucket_name="
   ]
  },
  {
   "cell_type": "markdown",
   "metadata": {},
   "source": [
    "オブジェクトストレージにアクセスするためのアクセスキーを指定して下さい。"
   ]
  },
  {
   "cell_type": "code",
   "execution_count": null,
   "metadata": {
    "tags": []
   },
   "outputs": [],
   "source": [
    "# (例)\n",
    "# access_key=access-key\n",
    "\n",
    "access_key="
   ]
  },
  {
   "cell_type": "markdown",
   "metadata": {},
   "source": [
    "オブジェクトストレージにアクセスするためのシークレットキーを指定して下さい。"
   ]
  },
  {
   "cell_type": "code",
   "execution_count": null,
   "metadata": {
    "tags": []
   },
   "outputs": [],
   "source": [
    "# (例)\n",
    "# secret_key=secret-key-change-me\n",
    "\n",
    "secret_key="
   ]
  },
  {
   "cell_type": "markdown",
   "metadata": {},
   "source": [
    "### Kafka Connect\n",
    "\n",
    "Kafkaブローカからオブジェクトストレージにメッセージを保存するKafka Connectに関するパラメータの指定を行います。"
   ]
  },
  {
   "cell_type": "markdown",
   "metadata": {},
   "source": [
    "#### 登録名\n",
    "Kafka Connectに登録する名前を指定します。"
   ]
  },
  {
   "cell_type": "markdown",
   "metadata": {},
   "source": [
    "現在登録されているKafka Connectの名前を確認します。`jq`コマンドが利用できない場合は、次のセルの末尾の`| jq .`の部分をコメントアウトして実行して下さい。"
   ]
  },
  {
   "cell_type": "code",
   "execution_count": null,
   "metadata": {
    "tags": []
   },
   "outputs": [],
   "source": [
    "curl -sf http://localhost:8083/connectors | jq ."
   ]
  },
  {
   "cell_type": "markdown",
   "metadata": {},
   "source": [
    "Kafka Connectの登録名を指定します。"
   ]
  },
  {
   "cell_type": "code",
   "execution_count": null,
   "metadata": {
    "tags": []
   },
   "outputs": [],
   "source": [
    "# (例)\n",
    "# kafka_connect_name=sink-s3-android\n",
    "\n",
    "kafka_connect_name="
   ]
  },
  {
   "cell_type": "markdown",
   "metadata": {},
   "source": [
    "#### トピック名\n",
    "\n",
    "Androidセンサーデータの送信先となっているKafkaのトピック名を確認します。ここで確認したものがKafka Connectを登録する対象のトピック名になります。"
   ]
  },
  {
   "cell_type": "code",
   "execution_count": null,
   "metadata": {
    "tags": []
   },
   "outputs": [],
   "source": [
    "topic_name=$(grep sensor_data $target_dir/params/01-android.yml | \\\n",
    "    awk '{print $2}' | tr -d '\"')\n",
    "echo $topic_name"
   ]
  },
  {
   "cell_type": "markdown",
   "metadata": {},
   "source": [
    "## Kafka Connectの設定\n",
    "\n",
    "ブローカに送信されたセンサーデータをオブジェクトストレージに保存するKafka Connectを登録します。"
   ]
  },
  {
   "cell_type": "markdown",
   "metadata": {},
   "source": [
    "### センサーデータ\n",
    "\n",
    "センサーデータをオブジェクトストレージに保存するKafka Connectを登録します。"
   ]
  },
  {
   "cell_type": "code",
   "execution_count": null,
   "metadata": {},
   "outputs": [],
   "source": [
    "script_dir=../../../Server/files/setup/kafka-connect\n",
    "$script_dir/setup-sink-minio.sh -D -t $topic_name -b $bucket_name \\\n",
    "    -u $endpoint_url -A \"$access_key\" -S \"$secret_key\" \\\n",
    "    -n $kafka_connect_name -X .json"
   ]
  },
  {
   "cell_type": "markdown",
   "metadata": {},
   "source": [
    "登録状況を確認します。`jq`コマンドが利用できない場合は、次のセルの末尾の`| jq .`の部分をコメントアウトして実行して下さい。"
   ]
  },
  {
   "cell_type": "code",
   "execution_count": null,
   "metadata": {
    "tags": []
   },
   "outputs": [],
   "source": [
    "curl -sf http://localhost:8083/connectors/$kafka_connect_name | jq ."
   ]
  },
  {
   "cell_type": "markdown",
   "metadata": {},
   "source": [
    "### タイムスタンプ\n",
    "\n",
    "ブローカに送信されたセンサーデータの送信時刻をオブジェクトストレージに保存するKafka Connectを登録します。タイムスタンプの保存が不要な場合はこの節の実行をスキップできます。"
   ]
  },
  {
   "cell_type": "code",
   "execution_count": null,
   "metadata": {},
   "outputs": [],
   "source": [
    "$script_dir/setup-sink-minio.sh -T -t $topic_name -b $bucket_name \\\n",
    "    -u $endpoint_url -A \"$access_key\" -S \"$secret_key\" \\\n",
    "    -n ${kafka_connect_name}-timestamp"
   ]
  },
  {
   "cell_type": "markdown",
   "metadata": {},
   "source": [
    "登録状況を確認します。`jq`コマンドが利用できない場合は、次のセルの末尾の`| jq .`の部分をコメントアウトして実行して下さい。"
   ]
  },
  {
   "cell_type": "code",
   "execution_count": null,
   "metadata": {},
   "outputs": [],
   "source": [
    "curl -sf http://localhost:8083/connectors/${kafka_connect_name}-timestamp | jq ."
   ]
  }
 ],
 "metadata": {
  "kernelspec": {
   "display_name": "Bash",
   "language": "bash",
   "name": "bash"
  },
  "language_info": {
   "codemirror_mode": "shell",
   "file_extension": ".sh",
   "mimetype": "text/x-sh",
   "name": "bash"
  },
  "toc-autonumbering": true
 },
 "nbformat": 4,
 "nbformat_minor": 4
}
